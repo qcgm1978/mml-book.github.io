{
 "metadata": {
  "language_info": {
   "codemirror_mode": {
    "name": "ipython",
    "version": 3
   },
   "file_extension": ".py",
   "mimetype": "text/x-python",
   "name": "python",
   "nbconvert_exporter": "python",
   "pygments_lexer": "ipython3",
   "version": "3.8.6-final"
  },
  "orig_nbformat": 2,
  "kernelspec": {
   "name": "python3",
   "display_name": "Python 3.8.6 64-bit",
   "metadata": {
    "interpreter": {
     "hash": "aee8b7b246df8f9039afb4144a1f6fd8d2ca17a180786b69acc140d282b71a49"
    }
   }
  }
 },
 "nbformat": 4,
 "nbformat_minor": 2,
 "cells": [
  {
   "source": [
    "$y=x+2 \n",
    "\\sum\n",
    "\\sqrt[3]{2}$"
   ],
   "cell_type": "markdown",
   "metadata": {}
  },
  {
   "source": [
    "$\\nabla \\cdot \\mathbf{E}=\\frac{\\rho}{\\varepsilon_{0}} \\\\\n",
    "\\nabla \\cdot \\mathbf{B}=0 \\\\\n",
    "\\nabla \\times \\mathbf{E}=-\\frac{\\partial \\mathbf{B}}{\\partial t} \\\\\n",
    "\\nabla \\times \\mathbf{B}=\\mu_{0} \\mathbf{J}+\\mu_{0} \\varepsilon_{0} \\frac{\\partial \\mathbf{E}}{\\partial t}$"
   ],
   "cell_type": "markdown",
   "metadata": {}
  },
  {
   "cell_type": "code",
   "execution_count": null,
   "metadata": {},
   "outputs": [],
   "source": []
  }
 ]
}